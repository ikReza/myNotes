{
 "cells": [
  {
   "cell_type": "code",
   "execution_count": 1,
   "id": "7ffe5660-9ed5-4ca1-965b-167f2591adae",
   "metadata": {},
   "outputs": [],
   "source": [
    "import pandas as pd\n",
    "import numpy as np\n",
    "import matplotlib.pyplot as plt\n",
    "import seaborn as sns\n",
    "import missingno as msno\n",
    "\n",
    "plt.style.use(\"default\")\n",
    "import warnings\n",
    "warnings.filterwarnings(\"ignore\")"
   ]
  },
  {
   "cell_type": "code",
   "execution_count": 2,
   "id": "033e3f9f-9f1f-4bc8-95df-8aa00a7ad1ae",
   "metadata": {},
   "outputs": [
    {
     "data": {
      "text/plain": [
       "((28322, 36), (85065, 35))"
      ]
     },
     "execution_count": 2,
     "metadata": {},
     "output_type": "execute_result"
    }
   ],
   "source": [
    "train = pd.read_csv(\"data/train.csv\")\n",
    "test = pd.read_csv(\"data/test.csv\")\n",
    "\n",
    "train.shape, test.shape"
   ]
  },
  {
   "cell_type": "code",
   "execution_count": 3,
   "id": "1e4e136b-dd7e-4098-9934-acfb259f9e1d",
   "metadata": {},
   "outputs": [
    {
     "data": {
      "text/plain": [
       "((28322, 36), (85065, 35))"
      ]
     },
     "execution_count": 3,
     "metadata": {},
     "output_type": "execute_result"
    }
   ],
   "source": [
    "df_train = train.copy()\n",
    "df_test = test.copy()\n",
    "\n",
    "df_train.shape, df_test.shape"
   ]
  },
  {
   "cell_type": "code",
   "execution_count": 4,
   "id": "a6dbacc6-106b-45e6-9320-55b66588d016",
   "metadata": {},
   "outputs": [
    {
     "data": {
      "text/plain": [
       "((28322, 31), (85065, 30))"
      ]
     },
     "execution_count": 4,
     "metadata": {},
     "output_type": "execute_result"
    }
   ],
   "source": [
    "drop_cols = [\"s54\", \"s55\", \"s56\", \"s57\", \"s59\"]\n",
    "df_train.drop(drop_cols, axis=1, inplace=True)\n",
    "df_test.drop(drop_cols, axis=1, inplace=True)\n",
    "\n",
    "df_train.shape, df_test.shape"
   ]
  },
  {
   "cell_type": "code",
   "execution_count": 5,
   "id": "5748bad0-8a6b-437d-9fa4-481331dd30a0",
   "metadata": {},
   "outputs": [
    {
     "data": {
      "text/plain": [
       "(13,\n",
       " Index(['id', 'gender', 's11', 's12', 's16', 's17', 's18', 's52', 's53', 's58',\n",
       "        's69', 's70', 's71'],\n",
       "       dtype='object'))"
      ]
     },
     "execution_count": 5,
     "metadata": {},
     "output_type": "execute_result"
    }
   ],
   "source": [
    "cat_cols = df_train.select_dtypes(include=[\"object\"]).columns\n",
    "len(cat_cols), cat_cols"
   ]
  },
  {
   "cell_type": "code",
   "execution_count": 22,
   "id": "6f6262fc-394e-4fbc-9622-61745959d201",
   "metadata": {},
   "outputs": [
    {
     "data": {
      "text/plain": [
       "(18,\n",
       " Index(['s13', 's48', 'n1', 'n2', 'n3', 'n4', 'n5', 'n6', 'n7', 'n8', 'n9',\n",
       "        'n10', 'n11', 'n12', 'n13', 'n14', 'n15', 'label'],\n",
       "       dtype='object'))"
      ]
     },
     "execution_count": 22,
     "metadata": {},
     "output_type": "execute_result"
    }
   ],
   "source": [
    "num_cols = df_train.select_dtypes(exclude=[\"object\"]).columns\n",
    "len(num_cols), num_cols"
   ]
  },
  {
   "cell_type": "code",
   "execution_count": 6,
   "id": "81f93814-5219-4d4d-ba3d-34d3f483b5ee",
   "metadata": {
    "tags": []
   },
   "outputs": [
    {
     "name": "stdout",
     "output_type": "stream",
     "text": [
      "(28322, 31)\n"
     ]
    },
    {
     "data": {
      "text/plain": [
       "(28279, 31)"
      ]
     },
     "execution_count": 6,
     "metadata": {},
     "output_type": "execute_result"
    }
   ],
   "source": [
    "def remove_outlier(df, col_name):\n",
    "    Q1 = np.percentile(df[col_name], 0.25)\n",
    "    Q3 = np.percentile(df[col_name], 0.75)\n",
    "    IQR = Q3 - Q1\n",
    "    \n",
    "    df.drop(df[df[col_name] < (Q1 - 1.5*IQR)].index, inplace=True)\n",
    "    # df.drop(df[df[col_name] < (Q3 + 1.5*IQR)].index, inplace=True)\n",
    "    \n",
    "df_train2 = df_train.copy()\n",
    "print(df_train2.shape)\n",
    "\n",
    "for val in [\"n8\", \"n9\", \"n10\"]:\n",
    "    remove_outlier(df_train2, val)\n",
    "df_train2.shape"
   ]
  },
  {
   "cell_type": "code",
   "execution_count": 8,
   "id": "ab07c2a2-6968-4457-a3c7-aca82619cd6d",
   "metadata": {},
   "outputs": [],
   "source": [
    "df_train3 = df_train2.drop([\"id\"], axis=1)"
   ]
  },
  {
   "cell_type": "code",
   "execution_count": 9,
   "id": "fb85a470-672f-45b6-bf76-da718530bd6e",
   "metadata": {},
   "outputs": [
    {
     "name": "stdout",
     "output_type": "stream",
     "text": [
      "['1' 'l' '0' 'o']\n",
      "[1 0]\n"
     ]
    }
   ],
   "source": [
    "print(df_train3[\"s52\"].unique())\n",
    "\n",
    "df_train3[\"s52\"] = df_train3[\"s52\"].map({\"1\": 1, \"l\": 1, \"0\": 0, \"o\": 0})\n",
    "print(df_train3[\"s52\"].unique())"
   ]
  },
  {
   "cell_type": "code",
   "execution_count": 42,
   "id": "10a22545-9a2e-4523-816c-42459f6cb9f7",
   "metadata": {},
   "outputs": [
    {
     "data": {
      "text/plain": [
       "2"
      ]
     },
     "execution_count": 42,
     "metadata": {},
     "output_type": "execute_result"
    }
   ],
   "source": [
    "df_train3[\"s52\"].nunique()"
   ]
  },
  {
   "cell_type": "code",
   "execution_count": 10,
   "id": "4ea5a470-c5cb-412c-9253-a15f07b1e865",
   "metadata": {},
   "outputs": [
    {
     "data": {
      "text/plain": [
       "(23, 30)"
      ]
     },
     "execution_count": 10,
     "metadata": {},
     "output_type": "execute_result"
    }
   ],
   "source": [
    "new_col = 0\n",
    "for label, content in df_train3.items():\n",
    "    if pd.api.types.is_string_dtype(content):\n",
    "        new_col += df_train[label].nunique() - 1\n",
    "        \n",
    "new_col, len(df_train3.columns)"
   ]
  },
  {
   "cell_type": "code",
   "execution_count": 11,
   "id": "41f632a8-1755-42d5-88f9-970857d21417",
   "metadata": {},
   "outputs": [
    {
     "data": {
      "text/plain": [
       "Index(['id', 'gender', 's11', 's12', 's16', 's17', 's18', 's52', 's53', 's58',\n",
       "       's69', 's70', 's71'],\n",
       "      dtype='object')"
      ]
     },
     "execution_count": 11,
     "metadata": {},
     "output_type": "execute_result"
    }
   ],
   "source": [
    "cat_cols"
   ]
  },
  {
   "cell_type": "code",
   "execution_count": 45,
   "id": "584b4885-491e-4995-a746-b56a78aff1f6",
   "metadata": {},
   "outputs": [],
   "source": [
    "cat_cols2 = ['id', 's11', 's12', 's16', 's17', 's18', 's52', 's53', 's58', 's69', 's70']"
   ]
  },
  {
   "cell_type": "code",
   "execution_count": 12,
   "id": "37bcd944-ce08-41d0-8f37-917774a0272f",
   "metadata": {},
   "outputs": [
    {
     "data": {
      "text/plain": [
       "(28279, 54)"
      ]
     },
     "execution_count": 12,
     "metadata": {},
     "output_type": "execute_result"
    }
   ],
   "source": [
    "df_dummy = pd.get_dummies(df_train3, columns=cat_cols[1:], drop_first=False)\n",
    "df_dummy.shape"
   ]
  },
  {
   "cell_type": "code",
   "execution_count": 13,
   "id": "433a307a-c9be-49b1-8cb4-725016aefd81",
   "metadata": {},
   "outputs": [],
   "source": [
    "from sklearn.model_selection import train_test_split\n",
    "from sklearn.metrics import  accuracy_score\n",
    "\n",
    "from sklearn.linear_model import LogisticRegression\n",
    "from sklearn.ensemble import RandomForestClassifier\n",
    "from xgboost import XGBClassifier"
   ]
  },
  {
   "cell_type": "code",
   "execution_count": 14,
   "id": "659230e0-dc84-493d-9d7d-2f63b9c96a56",
   "metadata": {},
   "outputs": [],
   "source": [
    "X = df_dummy.drop(\"label\", axis=1)\n",
    "y = df_dummy[\"label\"]"
   ]
  },
  {
   "cell_type": "code",
   "execution_count": 48,
   "id": "ae0b81c1-08c3-4499-989b-e2d4f74423ad",
   "metadata": {},
   "outputs": [
    {
     "data": {
      "text/plain": [
       "((20321, 44), (5081, 44))"
      ]
     },
     "execution_count": 48,
     "metadata": {},
     "output_type": "execute_result"
    }
   ],
   "source": [
    "X_train, X_test, y_train, y_test = train_test_split(X, y, test_size=0.2, shuffle=True, random_state=0)\n",
    "X_train.shape, X_test.shape"
   ]
  },
  {
   "cell_type": "code",
   "execution_count": 25,
   "id": "ccc19ece-cedd-46fa-bf5c-f6082815308d",
   "metadata": {},
   "outputs": [],
   "source": [
    "def model_score(model):\n",
    "    \n",
    "    model.fit(X_train, y_train)\n",
    "    score = model.score(X_test, y_test)\n",
    "    \n",
    "    return score"
   ]
  },
  {
   "cell_type": "code",
   "execution_count": 44,
   "id": "bb4670fa-d424-4bcc-8092-1606a6b74385",
   "metadata": {},
   "outputs": [
    {
     "name": "stdout",
     "output_type": "stream",
     "text": [
      "Wall time: 9.21 s\n"
     ]
    },
    {
     "data": {
      "text/html": [
       "<div>\n",
       "<style scoped>\n",
       "    .dataframe tbody tr th:only-of-type {\n",
       "        vertical-align: middle;\n",
       "    }\n",
       "\n",
       "    .dataframe tbody tr th {\n",
       "        vertical-align: top;\n",
       "    }\n",
       "\n",
       "    .dataframe thead th {\n",
       "        text-align: right;\n",
       "    }\n",
       "</style>\n",
       "<table border=\"1\" class=\"dataframe\">\n",
       "  <thead>\n",
       "    <tr style=\"text-align: right;\">\n",
       "      <th></th>\n",
       "      <th>0</th>\n",
       "      <th>1</th>\n",
       "    </tr>\n",
       "  </thead>\n",
       "  <tbody>\n",
       "    <tr>\n",
       "      <th>0</th>\n",
       "      <td>Logstic Regression</td>\n",
       "      <td>0.867743</td>\n",
       "    </tr>\n",
       "    <tr>\n",
       "      <th>1</th>\n",
       "      <td>Random Forest</td>\n",
       "      <td>0.874041</td>\n",
       "    </tr>\n",
       "    <tr>\n",
       "      <th>2</th>\n",
       "      <td>XGBoost</td>\n",
       "      <td>0.868530</td>\n",
       "    </tr>\n",
       "  </tbody>\n",
       "</table>\n",
       "</div>"
      ],
      "text/plain": [
       "                    0         1\n",
       "0  Logstic Regression  0.867743\n",
       "1       Random Forest  0.874041\n",
       "2             XGBoost  0.868530"
      ]
     },
     "execution_count": 44,
     "metadata": {},
     "output_type": "execute_result"
    }
   ],
   "source": [
    "%%time\n",
    "lr = LogisticRegression()\n",
    "rf = RandomForestClassifier()\n",
    "xgb = XGBClassifier()\n",
    "\n",
    "model_desc = {\"Logstic Regression\": lr, \"Random Forest\": rf, \"XGBoost\": xgb}\n",
    "scores = {}\n",
    "\n",
    "for k, v in model_desc.items():\n",
    "    scores[k] = model_score(v)\n",
    "    \n",
    "pd.DataFrame(scores.items())"
   ]
  },
  {
   "cell_type": "code",
   "execution_count": 23,
   "id": "3be205a3-c8df-42df-bf36-afc2b182797d",
   "metadata": {},
   "outputs": [],
   "source": [
    "from sklearn.metrics import roc_curve, auc, roc_auc_score"
   ]
  },
  {
   "cell_type": "code",
   "execution_count": 46,
   "id": "79874c76-5447-4720-925a-ae9610d84452",
   "metadata": {},
   "outputs": [
    {
     "name": "stdout",
     "output_type": "stream",
     "text": [
      "Wall time: 144 ms\n"
     ]
    },
    {
     "data": {
      "text/plain": [
       "(0.854162184669836, 0.8637035662904013, 0.862392331981839)"
      ]
     },
     "execution_count": 46,
     "metadata": {},
     "output_type": "execute_result"
    }
   ],
   "source": [
    "%%time\n",
    "lr_fpr, lr_tpr, lr_threshold = roc_curve(y_test, lr.predict_proba(X_test)[:,1], pos_label=1)\n",
    "auc_lr = auc(lr_fpr, lr_tpr)\n",
    "\n",
    "rf_fpr, rf_tpr, rf_threshold = roc_curve(y_test, rf.predict_proba(X_test)[:,1], pos_label=1)\n",
    "auc_rf = auc(rf_fpr, rf_tpr)\n",
    "\n",
    "xgb_fpr, xgb_tpr, _ = roc_curve(y_test, xgb.predict_proba(X_test)[:,1], pos_label=1)\n",
    "auc_xgb = auc(xgb_fpr, xgb_tpr)\n",
    "\n",
    "auc_lr, auc_rf, auc_xgb"
   ]
  },
  {
   "cell_type": "code",
   "execution_count": 47,
   "id": "c9bc3bd0-79fa-4072-9cf1-8642fb46bd59",
   "metadata": {},
   "outputs": [
    {
     "data": {
      "text/html": [
       "<div>\n",
       "<style scoped>\n",
       "    .dataframe tbody tr th:only-of-type {\n",
       "        vertical-align: middle;\n",
       "    }\n",
       "\n",
       "    .dataframe tbody tr th {\n",
       "        vertical-align: top;\n",
       "    }\n",
       "\n",
       "    .dataframe thead th {\n",
       "        text-align: right;\n",
       "    }\n",
       "</style>\n",
       "<table border=\"1\" class=\"dataframe\">\n",
       "  <thead>\n",
       "    <tr style=\"text-align: right;\">\n",
       "      <th></th>\n",
       "      <th>gender</th>\n",
       "      <th>s11</th>\n",
       "      <th>s12</th>\n",
       "      <th>s13</th>\n",
       "      <th>s16</th>\n",
       "      <th>s17</th>\n",
       "      <th>s18</th>\n",
       "      <th>s48</th>\n",
       "      <th>s52</th>\n",
       "      <th>s53</th>\n",
       "      <th>...</th>\n",
       "      <th>n7</th>\n",
       "      <th>n8</th>\n",
       "      <th>n9</th>\n",
       "      <th>n10</th>\n",
       "      <th>n11</th>\n",
       "      <th>n12</th>\n",
       "      <th>n13</th>\n",
       "      <th>n14</th>\n",
       "      <th>n15</th>\n",
       "      <th>label</th>\n",
       "    </tr>\n",
       "  </thead>\n",
       "  <tbody>\n",
       "    <tr>\n",
       "      <th>0</th>\n",
       "      <td>M</td>\n",
       "      <td>Y</td>\n",
       "      <td>N</td>\n",
       "      <td>1</td>\n",
       "      <td>D</td>\n",
       "      <td>D</td>\n",
       "      <td>B</td>\n",
       "      <td>0</td>\n",
       "      <td>1</td>\n",
       "      <td></td>\n",
       "      <td>...</td>\n",
       "      <td>-9.126056</td>\n",
       "      <td>1.732291</td>\n",
       "      <td>3.698504</td>\n",
       "      <td>4.804517</td>\n",
       "      <td>1.544484</td>\n",
       "      <td>0</td>\n",
       "      <td>0</td>\n",
       "      <td>0.631220</td>\n",
       "      <td>5</td>\n",
       "      <td>0</td>\n",
       "    </tr>\n",
       "    <tr>\n",
       "      <th>1</th>\n",
       "      <td>M</td>\n",
       "      <td>Y</td>\n",
       "      <td>Y</td>\n",
       "      <td>1</td>\n",
       "      <td>D</td>\n",
       "      <td>D</td>\n",
       "      <td>B</td>\n",
       "      <td>1</td>\n",
       "      <td>1</td>\n",
       "      <td></td>\n",
       "      <td>...</td>\n",
       "      <td>-9.098287</td>\n",
       "      <td>1.505885</td>\n",
       "      <td>6.791357</td>\n",
       "      <td>6.110416</td>\n",
       "      <td>1.712354</td>\n",
       "      <td>0</td>\n",
       "      <td>0</td>\n",
       "      <td>0.392746</td>\n",
       "      <td>3</td>\n",
       "      <td>1</td>\n",
       "    </tr>\n",
       "    <tr>\n",
       "      <th>2</th>\n",
       "      <td>M</td>\n",
       "      <td>Y</td>\n",
       "      <td>Y</td>\n",
       "      <td>1</td>\n",
       "      <td>D</td>\n",
       "      <td>D</td>\n",
       "      <td>B</td>\n",
       "      <td>0</td>\n",
       "      <td>1</td>\n",
       "      <td></td>\n",
       "      <td>...</td>\n",
       "      <td>-9.234894</td>\n",
       "      <td>1.503828</td>\n",
       "      <td>4.109685</td>\n",
       "      <td>3.953226</td>\n",
       "      <td>1.804260</td>\n",
       "      <td>0</td>\n",
       "      <td>0</td>\n",
       "      <td>0.222537</td>\n",
       "      <td>2</td>\n",
       "      <td>0</td>\n",
       "    </tr>\n",
       "  </tbody>\n",
       "</table>\n",
       "<p>3 rows × 29 columns</p>\n",
       "</div>"
      ],
      "text/plain": [
       "  gender s11 s12  s13 s16 s17 s18  s48  s52 s53  ...        n7        n8  \\\n",
       "0      M   Y   N    1   D   D   B    0    1      ... -9.126056  1.732291   \n",
       "1      M   Y   Y    1   D   D   B    1    1      ... -9.098287  1.505885   \n",
       "2      M   Y   Y    1   D   D   B    0    1      ... -9.234894  1.503828   \n",
       "\n",
       "         n9       n10       n11  n12  n13       n14  n15  label  \n",
       "0  3.698504  4.804517  1.544484    0    0  0.631220    5      0  \n",
       "1  6.791357  6.110416  1.712354    0    0  0.392746    3      1  \n",
       "2  4.109685  3.953226  1.804260    0    0  0.222537    2      0  \n",
       "\n",
       "[3 rows x 29 columns]"
      ]
     },
     "execution_count": 47,
     "metadata": {},
     "output_type": "execute_result"
    }
   ],
   "source": [
    "df_train4 = df_train3.copy()\n",
    "df_train4.head(3)"
   ]
  },
  {
   "cell_type": "markdown",
   "id": "8ec9099f-71b3-4531-9d62-11e3888f2885",
   "metadata": {
    "tags": []
   },
   "source": [
    "# SMOTE"
   ]
  },
  {
   "cell_type": "code",
   "execution_count": 15,
   "id": "a15d14ed-5daa-4fc1-8e3d-9dc8a271d433",
   "metadata": {},
   "outputs": [],
   "source": [
    "from imblearn.over_sampling import SMOTE"
   ]
  },
  {
   "cell_type": "code",
   "execution_count": 16,
   "id": "7138b951-513b-471a-8fc5-df00aa890805",
   "metadata": {},
   "outputs": [],
   "source": [
    "smote = SMOTE()"
   ]
  },
  {
   "cell_type": "code",
   "execution_count": 17,
   "id": "1cd90540-ca50-4fe9-8f8e-4c2211a6d05e",
   "metadata": {},
   "outputs": [
    {
     "data": {
      "text/plain": [
       "((24037, 53), (4242, 53))"
      ]
     },
     "execution_count": 17,
     "metadata": {},
     "output_type": "execute_result"
    }
   ],
   "source": [
    "X_train, X_test, y_train, y_test = train_test_split(X, y, test_size=0.15, shuffle=True, random_state=0)\n",
    "X_train.shape, X_test.shape"
   ]
  },
  {
   "cell_type": "code",
   "execution_count": 18,
   "id": "f9b79839-5b63-4cf6-a552-2de8358d3374",
   "metadata": {},
   "outputs": [
    {
     "name": "stdout",
     "output_type": "stream",
     "text": [
      "(28279, 53) (28279,)\n"
     ]
    },
    {
     "data": {
      "text/plain": [
       "((39930, 53), (39930,))"
      ]
     },
     "execution_count": 18,
     "metadata": {},
     "output_type": "execute_result"
    }
   ],
   "source": [
    "# fit predictor and target variable\n",
    "print(X.shape, y.shape)\n",
    "X_smote, y_smote = smote.fit_resample(X_train, y_train)\n",
    "X_smote.shape, y_smote.shape"
   ]
  },
  {
   "cell_type": "code",
   "execution_count": 19,
   "id": "c81251bf-d4ca-4f9b-8227-7a2903de1568",
   "metadata": {},
   "outputs": [
    {
     "data": {
      "text/plain": [
       "(0    19965\n",
       " 1     4072\n",
       " Name: label, dtype: int64,\n",
       " 0    19965\n",
       " 1    19965\n",
       " Name: label, dtype: int64)"
      ]
     },
     "execution_count": 19,
     "metadata": {},
     "output_type": "execute_result"
    }
   ],
   "source": [
    "y_train.value_counts(), y_smote.value_counts()"
   ]
  },
  {
   "cell_type": "code",
   "execution_count": 20,
   "id": "197893f1-0142-41e0-b2ee-0b1e62d6c5e3",
   "metadata": {},
   "outputs": [],
   "source": [
    "def model_score(model):\n",
    "    \n",
    "    model.fit(X_smote, y_smote)\n",
    "    y_pred = model.predict(X_test)\n",
    "    score = accuracy_score(y_test, y_pred)\n",
    "    \n",
    "    return score"
   ]
  },
  {
   "cell_type": "code",
   "execution_count": 21,
   "id": "f50d3656-97cb-4dc7-99e9-028a294073aa",
   "metadata": {},
   "outputs": [
    {
     "name": "stdout",
     "output_type": "stream",
     "text": [
      "Wall time: 37.4 s\n"
     ]
    },
    {
     "data": {
      "text/html": [
       "<div>\n",
       "<style scoped>\n",
       "    .dataframe tbody tr th:only-of-type {\n",
       "        vertical-align: middle;\n",
       "    }\n",
       "\n",
       "    .dataframe tbody tr th {\n",
       "        vertical-align: top;\n",
       "    }\n",
       "\n",
       "    .dataframe thead th {\n",
       "        text-align: right;\n",
       "    }\n",
       "</style>\n",
       "<table border=\"1\" class=\"dataframe\">\n",
       "  <thead>\n",
       "    <tr style=\"text-align: right;\">\n",
       "      <th></th>\n",
       "      <th>0</th>\n",
       "      <th>1</th>\n",
       "    </tr>\n",
       "  </thead>\n",
       "  <tbody>\n",
       "    <tr>\n",
       "      <th>0</th>\n",
       "      <td>Logstic Regression</td>\n",
       "      <td>0.842527</td>\n",
       "    </tr>\n",
       "    <tr>\n",
       "      <th>1</th>\n",
       "      <td>Random Forest</td>\n",
       "      <td>0.860207</td>\n",
       "    </tr>\n",
       "    <tr>\n",
       "      <th>2</th>\n",
       "      <td>XGBoost</td>\n",
       "      <td>0.864215</td>\n",
       "    </tr>\n",
       "  </tbody>\n",
       "</table>\n",
       "</div>"
      ],
      "text/plain": [
       "                    0         1\n",
       "0  Logstic Regression  0.842527\n",
       "1       Random Forest  0.860207\n",
       "2             XGBoost  0.864215"
      ]
     },
     "execution_count": 21,
     "metadata": {},
     "output_type": "execute_result"
    }
   ],
   "source": [
    "%%time\n",
    "lr = LogisticRegression(random_state=0)\n",
    "rf = RandomForestClassifier(random_state=0)\n",
    "xgb = XGBClassifier(random_state=0)\n",
    "\n",
    "model_desc = {\"Logstic Regression\": lr, \"Random Forest\": rf, \"XGBoost\": xgb}\n",
    "scores = {}\n",
    "\n",
    "for k, v in model_desc.items():\n",
    "    scores[k] = model_score(v)\n",
    "    \n",
    "pd.DataFrame(scores.items())"
   ]
  },
  {
   "cell_type": "code",
   "execution_count": 57,
   "id": "287aacdb-858f-446c-aeef-84f0fe120ff9",
   "metadata": {},
   "outputs": [],
   "source": [
    "from sklearn.metrics import confusion_matrix, classification_report, plot_confusion_matrix"
   ]
  },
  {
   "cell_type": "code",
   "execution_count": 26,
   "id": "e20f2cce-acb8-48fa-b318-509ec5dc93d7",
   "metadata": {},
   "outputs": [
    {
     "data": {
      "text/plain": [
       "array([[3300,  261],\n",
       "       [ 315,  366]], dtype=int64)"
      ]
     },
     "execution_count": 26,
     "metadata": {},
     "output_type": "execute_result"
    }
   ],
   "source": [
    "confusion_matrix(y_test, xgb.predict(X_test))"
   ]
  },
  {
   "cell_type": "code",
   "execution_count": 27,
   "id": "16d5ce36-2958-4c64-b94b-c042a0b6a796",
   "metadata": {},
   "outputs": [
    {
     "data": {
      "text/plain": [
       "array([[3267,  294],\n",
       "       [ 299,  382]], dtype=int64)"
      ]
     },
     "execution_count": 27,
     "metadata": {},
     "output_type": "execute_result"
    }
   ],
   "source": [
    "confusion_matrix(y_test, rf.predict(X_test))"
   ]
  },
  {
   "cell_type": "code",
   "execution_count": 31,
   "id": "adf61f17-c1d9-4b09-b287-e3308d2477be",
   "metadata": {},
   "outputs": [
    {
     "name": "stdout",
     "output_type": "stream",
     "text": [
      "Wall time: 357 ms\n"
     ]
    },
    {
     "data": {
      "text/plain": [
       "(0.824842961417972, 0.8564560351763125, 0.8352267033835716)"
      ]
     },
     "execution_count": 31,
     "metadata": {},
     "output_type": "execute_result"
    }
   ],
   "source": [
    "%%time\n",
    "lr_fpr, lr_tpr, lr_threshold = roc_curve(y_test, lr.predict_proba(X_test)[:,1], pos_label=1)\n",
    "auc_lr = auc(lr_fpr, lr_tpr)\n",
    "\n",
    "rf_fpr, rf_tpr, rf_threshold = roc_curve(y_test, rf.predict_proba(X_test)[:,1], pos_label=1)\n",
    "auc_rf = auc(rf_fpr, rf_tpr)\n",
    "\n",
    "xgb_fpr, xgb_tpr, _ = roc_curve(y_test, xgb.predict_proba(X_test)[:,1], pos_label=1)\n",
    "auc_xgb = auc(xgb_fpr, xgb_tpr)\n",
    "\n",
    "auc_lr, auc_rf, auc_xgb"
   ]
  },
  {
   "cell_type": "code",
   "execution_count": 32,
   "id": "b4077f96-3f17-4b6d-98d7-4be0794ce711",
   "metadata": {
    "collapsed": true,
    "jupyter": {
     "outputs_hidden": true
    },
    "tags": []
   },
   "outputs": [
    {
     "name": "stdout",
     "output_type": "stream",
     "text": [
      "0.28\n"
     ]
    },
    {
     "data": {
      "image/png": "[encoded data removed]",
      "text/plain": [
       "<Figure size 2000x1000 with 1 Axes>"
      ]
     },
     "metadata": {},
     "output_type": "display_data"
    }
   ],
   "source": [
    "plt.figure(figsize=(20, 10))\n",
    "plt.plot(lr_fpr, lr_tpr, label=f\"Logistic Regression (AUC = {auc_lr:.3f})\")\n",
    "plt.plot(rf_fpr, rf_tpr, label=f\"Random Forest (AUC = {auc_rf:.3f})\")\n",
    "plt.plot(xgb_fpr, xgb_tpr, label=f\"KNN (AUC = {auc_xgb:.3f})\")\n",
    "plt.plot([0, 1], ls=\"--\")\n",
    "\n",
    "J = rf_tpr - rf_fpr\n",
    "ix = np.argmax(J)\n",
    "best_thresh = rf_threshold[ix]\n",
    "print(best_thresh)\n",
    "plt.scatter(rf_fpr[ix], rf_tpr[ix], marker='o', color='black', label='Best')\n",
    "\n",
    "plt.xlabel(\"-->  False Positive Rate (1-Specifity)  -->\")\n",
    "plt.ylabel(\"-->  True Positive Rate (Sensitivity)  -->\")\n",
    "plt.title(\"AUC-ROC (Receiver Operator Characteristic) Curve\")\n",
    "\n",
    "plt.xlim((0,1))\n",
    "plt.ylim((0,1))\n",
    "plt.legend();"
   ]
  },
  {
   "cell_type": "code",
   "execution_count": 79,
   "id": "b166cb6c-9737-4a60-9357-ba72ea8c749c",
   "metadata": {},
   "outputs": [
    {
     "name": "stdout",
     "output_type": "stream",
     "text": [
      "[[3446  115]\n",
      " [ 389  292]]\n"
     ]
    }
   ],
   "source": [
    "y_pred = (rf.predict_proba(X_test)[:,1] >= 0.67).astype(bool)\n",
    "y_pred[100:105]\n",
    "print(confusion_matrix(y_test, y_pred))"
   ]
  },
  {
   "cell_type": "code",
   "execution_count": null,
   "id": "ba74e7ab-2f51-499c-861a-4017d02bd152",
   "metadata": {},
   "outputs": [],
   "source": []
  },
  {
   "cell_type": "code",
   "execution_count": 75,
   "id": "c421d7f9-eeb4-4ec6-a928-117b867e615b",
   "metadata": {},
   "outputs": [
    {
     "data": {
      "image/png": "[encoded data removed]",
      "text/plain": [
       "<Figure size 500x300 with 2 Axes>"
      ]
     },
     "metadata": {},
     "output_type": "display_data"
    }
   ],
   "source": [
    "plt.figure(figsize=(5, 3))\n",
    "cm = confusion_matrix(y_test, y_pred)\n",
    "sns.heatmap(cm, cmap=\"Greens\", annot=True)\n",
    "plt.xlabel(\"Predicted\")\n",
    "plt.ylabel(\"Actual\");"
   ]
  },
  {
   "cell_type": "code",
   "execution_count": 80,
   "id": "fc737572-0ca0-4a4c-a088-0baf8092635a",
   "metadata": {},
   "outputs": [
    {
     "data": {
      "text/plain": [
       "0.8811881188118812"
      ]
     },
     "execution_count": 80,
     "metadata": {},
     "output_type": "execute_result"
    }
   ],
   "source": [
    "accuracy_score(y_test, y_pred)"
   ]
  },
  {
   "cell_type": "code",
   "execution_count": 53,
   "id": "d1b75605-b401-461d-8466-a375fa09725d",
   "metadata": {},
   "outputs": [
    {
     "data": {
      "text/plain": [
       "0    23562\n",
       "1     4760\n",
       "Name: label, dtype: int64"
      ]
     },
     "execution_count": 53,
     "metadata": {},
     "output_type": "execute_result"
    }
   ],
   "source": [
    "train[\"label\"].value_counts()"
   ]
  },
  {
   "cell_type": "code",
   "execution_count": 104,
   "id": "69438080-1fd0-4689-b843-d90c114b51eb",
   "metadata": {},
   "outputs": [
    {
     "name": "stdout",
     "output_type": "stream",
     "text": [
      "[[3300  261]\n",
      " [ 315  366]]\n"
     ]
    },
    {
     "data": {
      "text/plain": [
       "0.8642149929278642"
      ]
     },
     "execution_count": 104,
     "metadata": {},
     "output_type": "execute_result"
    }
   ],
   "source": [
    "xgb_pred = (xgb.predict_proba(X_test)[:,1] >= 0.5).astype(bool)\n",
    "print(confusion_matrix(y_test, xgb_pred))\n",
    "accuracy_score(y_test, xgb_pred)"
   ]
  },
  {
   "cell_type": "code",
   "execution_count": null,
   "id": "1dc26485-c281-44b2-96a3-173732250b70",
   "metadata": {},
   "outputs": [],
   "source": []
  },
  {
   "cell_type": "code",
   "execution_count": null,
   "id": "42957506-af07-4cb9-a90e-2efdf3b2ad65",
   "metadata": {},
   "outputs": [],
   "source": []
  },
  {
   "cell_type": "code",
   "execution_count": 38,
   "id": "64519fd7-6b75-4288-9beb-e407552e5d06",
   "metadata": {
    "jupyter": {
     "source_hidden": true
    },
    "tags": []
   },
   "outputs": [],
   "source": [
    "def plot_features(columns, importances, n=20):\n",
    "    df = (pd.DataFrame({\"features\": columns, \"feature_importances\": importances})\n",
    "         .sort_values(\"feature_importances\", ascending=False)\n",
    "         .reset_index(drop=True))\n",
    "    \n",
    "    fig, ax = plt.subplots(figsize=(20, 15))\n",
    "    ax.barh(df[\"features\"], df[\"feature_importances\"])\n",
    "    ax.set(xlabel=\"Feature importance\", ylabel=\"features\")\n",
    "    ax.invert_yaxis()"
   ]
  },
  {
   "cell_type": "code",
   "execution_count": 39,
   "id": "667ccdc9-187f-4417-9ab8-1da7be1ba083",
   "metadata": {
    "collapsed": true,
    "jupyter": {
     "outputs_hidden": true
    },
    "tags": []
   },
   "outputs": [
    {
     "data": {
      "image/png": "[encoded data removed]",
      "text/plain": [
       "<Figure size 2000x1500 with 1 Axes>"
      ]
     },
     "metadata": {},
     "output_type": "display_data"
    }
   ],
   "source": [
    "plot_features(X_smote.columns, rf.feature_importances_);"
   ]
  },
  {
   "cell_type": "code",
   "execution_count": null,
   "id": "9f94c0c1-1f97-4e14-86a0-0436353ae7f4",
   "metadata": {},
   "outputs": [],
   "source": [
    "[\"n12\", \"s71\", \"s13\", \"s48\"]"
   ]
  },
  {
   "cell_type": "markdown",
   "id": "e2042509-fec0-4058-96bc-d9d247c885e2",
   "metadata": {},
   "source": [
    "# Test Data"
   ]
  },
  {
   "cell_type": "code",
   "execution_count": 88,
   "id": "293a81ef-08c5-4f82-8c40-c0730b07fbbd",
   "metadata": {},
   "outputs": [
    {
     "data": {
      "text/plain": [
       "(85065, 29)"
      ]
     },
     "execution_count": 88,
     "metadata": {},
     "output_type": "execute_result"
    }
   ],
   "source": [
    "df_test2 = df_test.drop([\"id\"], axis=1)\n",
    "df_test2.shape"
   ]
  },
  {
   "cell_type": "code",
   "execution_count": 58,
   "id": "37407ae1-a711-43b3-88b4-38345d6d44a2",
   "metadata": {},
   "outputs": [
    {
     "data": {
      "text/plain": [
       "(25402, 29)"
      ]
     },
     "execution_count": 58,
     "metadata": {},
     "output_type": "execute_result"
    }
   ],
   "source": [
    "df_train3.shape"
   ]
  },
  {
   "cell_type": "code",
   "execution_count": 59,
   "id": "e48bcc53-440f-4819-a0d8-e4f7c02ea531",
   "metadata": {},
   "outputs": [
    {
     "data": {
      "text/plain": [
       "(Index(['gender', 's11', 's12', 's13', 's16', 's17', 's18', 's48', 's52', 's53',\n",
       "        's58', 's70', 's71', 'n1', 'n2', 'n3', 'n4', 'n5', 'n6', 'n7', 'n8',\n",
       "        'n9', 'n10', 'n11', 'n12', 'n13', 'n14', 'n15'],\n",
       "       dtype='object'),\n",
       " Index(['gender', 's11', 's12', 's13', 's16', 's17', 's18', 's48', 's52', 's53',\n",
       "        's58', 's70', 's71', 'n1', 'n2', 'n3', 'n4', 'n5', 'n6', 'n7', 'n8',\n",
       "        'n9', 'n10', 'n11', 'n12', 'n13', 'n14', 'n15', 'label'],\n",
       "       dtype='object'))"
      ]
     },
     "execution_count": 59,
     "metadata": {},
     "output_type": "execute_result"
    }
   ],
   "source": [
    "df_test2.columns, df_train3.columns"
   ]
  },
  {
   "cell_type": "code",
   "execution_count": 89,
   "id": "5143b507-10f6-4dbd-aa2f-8c215fb9c7e4",
   "metadata": {},
   "outputs": [
    {
     "data": {
      "text/plain": [
       "set()"
      ]
     },
     "execution_count": 89,
     "metadata": {},
     "output_type": "execute_result"
    }
   ],
   "source": [
    "set(df_test2.columns) - set(df_train3.columns)"
   ]
  },
  {
   "cell_type": "code",
   "execution_count": 90,
   "id": "1e16462f-09a3-4881-9d6b-3cd6cb600345",
   "metadata": {},
   "outputs": [
    {
     "name": "stdout",
     "output_type": "stream",
     "text": [
      "[1 0]\n"
     ]
    }
   ],
   "source": [
    "df_test2[\"s52\"] = df_test2[\"s52\"].map({\"1\": 1, \"l\": 1, \"0\": 0, \"o\": 0})\n",
    "print(df_test2[\"s52\"].unique())"
   ]
  },
  {
   "cell_type": "code",
   "execution_count": 92,
   "id": "820b36f0-959e-4e62-8485-41f64fb591d4",
   "metadata": {},
   "outputs": [
    {
     "data": {
      "text/plain": [
       "((85065, 53), (28279, 54))"
      ]
     },
     "execution_count": 92,
     "metadata": {},
     "output_type": "execute_result"
    }
   ],
   "source": [
    "df_dummy_test = pd.get_dummies(df_test2, columns=cat_cols[1:], drop_first=False)\n",
    "df_dummy_test.shape, df_dummy.shape"
   ]
  },
  {
   "cell_type": "code",
   "execution_count": 93,
   "id": "d069d8c2-cb55-428c-aaff-913f1b7505d7",
   "metadata": {},
   "outputs": [
    {
     "data": {
      "text/plain": [
       "set()"
      ]
     },
     "execution_count": 93,
     "metadata": {},
     "output_type": "execute_result"
    }
   ],
   "source": [
    "set(df_dummy_test.columns) - set(df_dummy.columns)"
   ]
  },
  {
   "cell_type": "code",
   "execution_count": 64,
   "id": "c7eaf7d8-2a33-4122-b4a1-367c75622bc7",
   "metadata": {},
   "outputs": [
    {
     "data": {
      "text/html": [
       "<div>\n",
       "<style scoped>\n",
       "    .dataframe tbody tr th:only-of-type {\n",
       "        vertical-align: middle;\n",
       "    }\n",
       "\n",
       "    .dataframe tbody tr th {\n",
       "        vertical-align: top;\n",
       "    }\n",
       "\n",
       "    .dataframe thead th {\n",
       "        text-align: right;\n",
       "    }\n",
       "</style>\n",
       "<table border=\"1\" class=\"dataframe\">\n",
       "  <thead>\n",
       "    <tr style=\"text-align: right;\">\n",
       "      <th></th>\n",
       "      <th>s13</th>\n",
       "      <th>s48</th>\n",
       "      <th>n1</th>\n",
       "      <th>n2</th>\n",
       "      <th>n3</th>\n",
       "      <th>n4</th>\n",
       "      <th>n5</th>\n",
       "      <th>n6</th>\n",
       "      <th>n7</th>\n",
       "      <th>n8</th>\n",
       "      <th>...</th>\n",
       "      <th>s58_A</th>\n",
       "      <th>s58_B</th>\n",
       "      <th>s70_op: A</th>\n",
       "      <th>s70_op: B</th>\n",
       "      <th>s70_op: C</th>\n",
       "      <th>s70_op: D</th>\n",
       "      <th>s71_a</th>\n",
       "      <th>s71_b</th>\n",
       "      <th>s71_c</th>\n",
       "      <th>s71_d</th>\n",
       "    </tr>\n",
       "  </thead>\n",
       "  <tbody>\n",
       "    <tr>\n",
       "      <th>0</th>\n",
       "      <td>1</td>\n",
       "      <td>0</td>\n",
       "      <td>17.362752</td>\n",
       "      <td>2.985283</td>\n",
       "      <td>3</td>\n",
       "      <td>2.052415</td>\n",
       "      <td>-32.339904</td>\n",
       "      <td>0.026301</td>\n",
       "      <td>-9.200175</td>\n",
       "      <td>2.122970</td>\n",
       "      <td>...</td>\n",
       "      <td>0</td>\n",
       "      <td>1</td>\n",
       "      <td>0</td>\n",
       "      <td>0</td>\n",
       "      <td>0</td>\n",
       "      <td>1</td>\n",
       "      <td>0</td>\n",
       "      <td>0</td>\n",
       "      <td>0</td>\n",
       "      <td>1</td>\n",
       "    </tr>\n",
       "    <tr>\n",
       "      <th>1</th>\n",
       "      <td>1</td>\n",
       "      <td>1</td>\n",
       "      <td>15.892228</td>\n",
       "      <td>2.389056</td>\n",
       "      <td>7</td>\n",
       "      <td>6.928142</td>\n",
       "      <td>-32.356092</td>\n",
       "      <td>0.010774</td>\n",
       "      <td>-8.897092</td>\n",
       "      <td>1.770889</td>\n",
       "      <td>...</td>\n",
       "      <td>1</td>\n",
       "      <td>0</td>\n",
       "      <td>0</td>\n",
       "      <td>0</td>\n",
       "      <td>1</td>\n",
       "      <td>0</td>\n",
       "      <td>0</td>\n",
       "      <td>1</td>\n",
       "      <td>0</td>\n",
       "      <td>0</td>\n",
       "    </tr>\n",
       "    <tr>\n",
       "      <th>2</th>\n",
       "      <td>1</td>\n",
       "      <td>1</td>\n",
       "      <td>10.893303</td>\n",
       "      <td>1.470903</td>\n",
       "      <td>6</td>\n",
       "      <td>2.210629</td>\n",
       "      <td>-32.397871</td>\n",
       "      <td>0.016837</td>\n",
       "      <td>-9.173660</td>\n",
       "      <td>1.871872</td>\n",
       "      <td>...</td>\n",
       "      <td>0</td>\n",
       "      <td>1</td>\n",
       "      <td>0</td>\n",
       "      <td>0</td>\n",
       "      <td>0</td>\n",
       "      <td>1</td>\n",
       "      <td>0</td>\n",
       "      <td>1</td>\n",
       "      <td>0</td>\n",
       "      <td>0</td>\n",
       "    </tr>\n",
       "    <tr>\n",
       "      <th>3</th>\n",
       "      <td>1</td>\n",
       "      <td>0</td>\n",
       "      <td>9.876850</td>\n",
       "      <td>1.442493</td>\n",
       "      <td>3</td>\n",
       "      <td>2.350379</td>\n",
       "      <td>-32.836003</td>\n",
       "      <td>0.015684</td>\n",
       "      <td>-9.178200</td>\n",
       "      <td>1.675028</td>\n",
       "      <td>...</td>\n",
       "      <td>0</td>\n",
       "      <td>1</td>\n",
       "      <td>0</td>\n",
       "      <td>0</td>\n",
       "      <td>0</td>\n",
       "      <td>1</td>\n",
       "      <td>0</td>\n",
       "      <td>1</td>\n",
       "      <td>0</td>\n",
       "      <td>0</td>\n",
       "    </tr>\n",
       "    <tr>\n",
       "      <th>4</th>\n",
       "      <td>1</td>\n",
       "      <td>1</td>\n",
       "      <td>11.674406</td>\n",
       "      <td>2.544719</td>\n",
       "      <td>8</td>\n",
       "      <td>8.136887</td>\n",
       "      <td>-32.577495</td>\n",
       "      <td>0.006406</td>\n",
       "      <td>-8.726633</td>\n",
       "      <td>1.963535</td>\n",
       "      <td>...</td>\n",
       "      <td>0</td>\n",
       "      <td>1</td>\n",
       "      <td>0</td>\n",
       "      <td>0</td>\n",
       "      <td>1</td>\n",
       "      <td>0</td>\n",
       "      <td>0</td>\n",
       "      <td>1</td>\n",
       "      <td>0</td>\n",
       "      <td>0</td>\n",
       "    </tr>\n",
       "  </tbody>\n",
       "</table>\n",
       "<p>5 rows × 49 columns</p>\n",
       "</div>"
      ],
      "text/plain": [
       "   s13  s48         n1        n2  n3        n4         n5        n6        n7  \\\n",
       "0    1    0  17.362752  2.985283   3  2.052415 -32.339904  0.026301 -9.200175   \n",
       "1    1    1  15.892228  2.389056   7  6.928142 -32.356092  0.010774 -8.897092   \n",
       "2    1    1  10.893303  1.470903   6  2.210629 -32.397871  0.016837 -9.173660   \n",
       "3    1    0   9.876850  1.442493   3  2.350379 -32.836003  0.015684 -9.178200   \n",
       "4    1    1  11.674406  2.544719   8  8.136887 -32.577495  0.006406 -8.726633   \n",
       "\n",
       "         n8  ...  s58_A  s58_B  s70_op: A  s70_op: B  s70_op: C  s70_op: D  \\\n",
       "0  2.122970  ...      0      1          0          0          0          1   \n",
       "1  1.770889  ...      1      0          0          0          1          0   \n",
       "2  1.871872  ...      0      1          0          0          0          1   \n",
       "3  1.675028  ...      0      1          0          0          0          1   \n",
       "4  1.963535  ...      0      1          0          0          1          0   \n",
       "\n",
       "   s71_a  s71_b  s71_c  s71_d  \n",
       "0      0      0      0      1  \n",
       "1      0      1      0      0  \n",
       "2      0      1      0      0  \n",
       "3      0      1      0      0  \n",
       "4      0      1      0      0  \n",
       "\n",
       "[5 rows x 49 columns]"
      ]
     },
     "execution_count": 64,
     "metadata": {},
     "output_type": "execute_result"
    }
   ],
   "source": [
    "df_dummy_test.head()"
   ]
  },
  {
   "cell_type": "code",
   "execution_count": 94,
   "id": "ab1ad757-58e1-41a8-85f2-72069eac4267",
   "metadata": {},
   "outputs": [
    {
     "data": {
      "text/plain": [
       "0.8602074493163602"
      ]
     },
     "execution_count": 94,
     "metadata": {},
     "output_type": "execute_result"
    }
   ],
   "source": [
    "rf.score(X_test, y_test)"
   ]
  },
  {
   "cell_type": "code",
   "execution_count": 96,
   "id": "04842c80-76b8-4a12-97ea-3e62e3ca5359",
   "metadata": {},
   "outputs": [
    {
     "data": {
      "text/plain": [
       "(85065, 2)"
      ]
     },
     "execution_count": 96,
     "metadata": {},
     "output_type": "execute_result"
    }
   ],
   "source": [
    "submit3 = pd.DataFrame()\n",
    "submit3[\"id\"] = df_test[\"id\"]\n",
    "submit3[\"label\"] = (rf.predict_proba(df_dummy_test)[:,1] >= 0.67).astype(bool)\n",
    "submit3[\"label\"] = submit3[\"label\"].map({True: 1, False: 0})\n",
    "\n",
    "submit3.shape"
   ]
  },
  {
   "cell_type": "code",
   "execution_count": 97,
   "id": "50a0f6c2-6f33-4776-b474-22101a7e26ff",
   "metadata": {},
   "outputs": [
    {
     "data": {
      "text/html": [
       "<div>\n",
       "<style scoped>\n",
       "    .dataframe tbody tr th:only-of-type {\n",
       "        vertical-align: middle;\n",
       "    }\n",
       "\n",
       "    .dataframe tbody tr th {\n",
       "        vertical-align: top;\n",
       "    }\n",
       "\n",
       "    .dataframe thead th {\n",
       "        text-align: right;\n",
       "    }\n",
       "</style>\n",
       "<table border=\"1\" class=\"dataframe\">\n",
       "  <thead>\n",
       "    <tr style=\"text-align: right;\">\n",
       "      <th></th>\n",
       "      <th>id</th>\n",
       "      <th>label</th>\n",
       "    </tr>\n",
       "  </thead>\n",
       "  <tbody>\n",
       "    <tr>\n",
       "      <th>0</th>\n",
       "      <td>b'gAAAAABinOi328DZcweGB4_nOyHA3Dy6o1YKYKyf3COx...</td>\n",
       "      <td>1</td>\n",
       "    </tr>\n",
       "    <tr>\n",
       "      <th>1</th>\n",
       "      <td>b'gAAAAABinOikutEIBjkUXl9lYTg4RI6jc4NfiMUCcVsn...</td>\n",
       "      <td>0</td>\n",
       "    </tr>\n",
       "    <tr>\n",
       "      <th>2</th>\n",
       "      <td>b'gAAAAABinOjBM70jBXOroAlUSq5lNXMd_oP0PU7jLQE5...</td>\n",
       "      <td>0</td>\n",
       "    </tr>\n",
       "    <tr>\n",
       "      <th>3</th>\n",
       "      <td>b'gAAAAABinOimitAnqlgOcqnD_LeNL3WEbXNGvjd3QVPi...</td>\n",
       "      <td>0</td>\n",
       "    </tr>\n",
       "    <tr>\n",
       "      <th>4</th>\n",
       "      <td>b'gAAAAABinOi3W9p3Oka5MV_dc2TeorZUcIWOnnODSx7E...</td>\n",
       "      <td>0</td>\n",
       "    </tr>\n",
       "  </tbody>\n",
       "</table>\n",
       "</div>"
      ],
      "text/plain": [
       "                                                  id  label\n",
       "0  b'gAAAAABinOi328DZcweGB4_nOyHA3Dy6o1YKYKyf3COx...      1\n",
       "1  b'gAAAAABinOikutEIBjkUXl9lYTg4RI6jc4NfiMUCcVsn...      0\n",
       "2  b'gAAAAABinOjBM70jBXOroAlUSq5lNXMd_oP0PU7jLQE5...      0\n",
       "3  b'gAAAAABinOimitAnqlgOcqnD_LeNL3WEbXNGvjd3QVPi...      0\n",
       "4  b'gAAAAABinOi3W9p3Oka5MV_dc2TeorZUcIWOnnODSx7E...      0"
      ]
     },
     "execution_count": 97,
     "metadata": {},
     "output_type": "execute_result"
    }
   ],
   "source": [
    "submit3.head()"
   ]
  },
  {
   "cell_type": "code",
   "execution_count": 105,
   "id": "4f23b3e6-e462-4a7e-bee3-3b3f0d922a88",
   "metadata": {},
   "outputs": [],
   "source": [
    "submit3.to_csv(\"submission/3rd/Submission_MaximumLikelihood_4f96et.csv\", index=False)"
   ]
  },
  {
   "cell_type": "code",
   "execution_count": 106,
   "id": "435ab09f-99e8-486c-8fa0-8823451d6cc7",
   "metadata": {},
   "outputs": [
    {
     "data": {
      "text/plain": [
       "(85065, 2)"
      ]
     },
     "execution_count": 106,
     "metadata": {},
     "output_type": "execute_result"
    }
   ],
   "source": [
    "sub3 = pd.read_csv(\"submission/3rd/Submission_MaximumLikelihood_4f96et.csv\")\n",
    "sub2.shape"
   ]
  },
  {
   "cell_type": "code",
   "execution_count": 107,
   "id": "67f5c566-76db-478a-84a5-a3a4f5772d0f",
   "metadata": {},
   "outputs": [
    {
     "data": {
      "text/html": [
       "<div>\n",
       "<style scoped>\n",
       "    .dataframe tbody tr th:only-of-type {\n",
       "        vertical-align: middle;\n",
       "    }\n",
       "\n",
       "    .dataframe tbody tr th {\n",
       "        vertical-align: top;\n",
       "    }\n",
       "\n",
       "    .dataframe thead th {\n",
       "        text-align: right;\n",
       "    }\n",
       "</style>\n",
       "<table border=\"1\" class=\"dataframe\">\n",
       "  <thead>\n",
       "    <tr style=\"text-align: right;\">\n",
       "      <th></th>\n",
       "      <th>id</th>\n",
       "      <th>label</th>\n",
       "    </tr>\n",
       "  </thead>\n",
       "  <tbody>\n",
       "    <tr>\n",
       "      <th>0</th>\n",
       "      <td>b'gAAAAABinOi328DZcweGB4_nOyHA3Dy6o1YKYKyf3COx...</td>\n",
       "      <td>1</td>\n",
       "    </tr>\n",
       "    <tr>\n",
       "      <th>1</th>\n",
       "      <td>b'gAAAAABinOikutEIBjkUXl9lYTg4RI6jc4NfiMUCcVsn...</td>\n",
       "      <td>0</td>\n",
       "    </tr>\n",
       "    <tr>\n",
       "      <th>2</th>\n",
       "      <td>b'gAAAAABinOjBM70jBXOroAlUSq5lNXMd_oP0PU7jLQE5...</td>\n",
       "      <td>0</td>\n",
       "    </tr>\n",
       "    <tr>\n",
       "      <th>3</th>\n",
       "      <td>b'gAAAAABinOimitAnqlgOcqnD_LeNL3WEbXNGvjd3QVPi...</td>\n",
       "      <td>0</td>\n",
       "    </tr>\n",
       "    <tr>\n",
       "      <th>4</th>\n",
       "      <td>b'gAAAAABinOi3W9p3Oka5MV_dc2TeorZUcIWOnnODSx7E...</td>\n",
       "      <td>0</td>\n",
       "    </tr>\n",
       "  </tbody>\n",
       "</table>\n",
       "</div>"
      ],
      "text/plain": [
       "                                                  id  label\n",
       "0  b'gAAAAABinOi328DZcweGB4_nOyHA3Dy6o1YKYKyf3COx...      1\n",
       "1  b'gAAAAABinOikutEIBjkUXl9lYTg4RI6jc4NfiMUCcVsn...      0\n",
       "2  b'gAAAAABinOjBM70jBXOroAlUSq5lNXMd_oP0PU7jLQE5...      0\n",
       "3  b'gAAAAABinOimitAnqlgOcqnD_LeNL3WEbXNGvjd3QVPi...      0\n",
       "4  b'gAAAAABinOi3W9p3Oka5MV_dc2TeorZUcIWOnnODSx7E...      0"
      ]
     },
     "execution_count": 107,
     "metadata": {},
     "output_type": "execute_result"
    }
   ],
   "source": [
    "sub3.head()"
   ]
  },
  {
   "cell_type": "code",
   "execution_count": 86,
   "id": "9a7c976e-12d7-4a93-9f4e-6151e6e44607",
   "metadata": {},
   "outputs": [
    {
     "data": {
      "text/plain": [
       "(85065, 2)"
      ]
     },
     "execution_count": 86,
     "metadata": {},
     "output_type": "execute_result"
    }
   ],
   "source": [
    "sub1 = pd.read_csv(\"submission/Submission_MaximumLikelihood_4f96et.csv\")\n",
    "sub1.shape"
   ]
  },
  {
   "cell_type": "code",
   "execution_count": 76,
   "id": "fe695dfc-6b55-4f29-a454-5e32df9cad6d",
   "metadata": {},
   "outputs": [
    {
     "data": {
      "text/plain": [
       "0.8864985599247635"
      ]
     },
     "execution_count": 76,
     "metadata": {},
     "output_type": "execute_result"
    }
   ],
   "source": [
    "accuracy_score(sub1[\"label\"], sub2[\"label\"])"
   ]
  },
  {
   "cell_type": "code",
   "execution_count": 84,
   "id": "58308a1e-9a80-4d9a-afec-43abc65effdd",
   "metadata": {},
   "outputs": [
    {
     "data": {
      "text/plain": [
       "0    62266\n",
       "1    22799\n",
       "Name: label, dtype: int64"
      ]
     },
     "execution_count": 84,
     "metadata": {},
     "output_type": "execute_result"
    }
   ],
   "source": [
    "sub1[\"label\"].value_counts()"
   ]
  },
  {
   "cell_type": "code",
   "execution_count": 87,
   "id": "d545de97-426a-453b-acbd-407142d39246",
   "metadata": {},
   "outputs": [
    {
     "data": {
      "text/plain": [
       "0    54803\n",
       "1    30262\n",
       "Name: label, dtype: int64"
      ]
     },
     "execution_count": 87,
     "metadata": {},
     "output_type": "execute_result"
    }
   ],
   "source": [
    "sub2[\"label\"].value_counts()"
   ]
  },
  {
   "cell_type": "code",
   "execution_count": 99,
   "id": "a13461c6-320a-47c6-aefb-db77852982de",
   "metadata": {},
   "outputs": [
    {
     "data": {
      "text/plain": [
       "0    63817\n",
       "1    21248\n",
       "Name: label, dtype: int64"
      ]
     },
     "execution_count": 99,
     "metadata": {},
     "output_type": "execute_result"
    }
   ],
   "source": [
    "submit3[\"label\"].value_counts()"
   ]
  },
  {
   "cell_type": "code",
   "execution_count": null,
   "id": "653bff12-4973-42a3-83a1-32013668e529",
   "metadata": {},
   "outputs": [],
   "source": []
  }
 ],
 "metadata": {
  "kernelspec": {
   "display_name": "Python 3 (ipykernel)",
   "language": "python",
   "name": "python3"
  },
  "language_info": {
   "codemirror_mode": {
    "name": "ipython",
    "version": 3
   },
   "file_extension": ".py",
   "mimetype": "text/x-python",
   "name": "python",
   "nbconvert_exporter": "python",
   "pygments_lexer": "ipython3",
   "version": "3.9.7"
  }
 },
 "nbformat": 4,
 "nbformat_minor": 5
}
